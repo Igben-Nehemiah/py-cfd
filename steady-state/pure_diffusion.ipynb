{
 "cells": [
  {
   "cell_type": "markdown",
   "metadata": {},
   "source": [
    "# The finite volume method for diffusion problems\n",
    "The governing equation of steady state diffusion of a transport property $\\phi$ is given as \n",
    "$$\n",
    "\\nabla \\cdot (\\Gamma \\ \\nabla \\phi) + S_{\\phi} = 0\n",
    "$$\n",
    "\n",
    "The control volume integration, which forms the key step of the finite volume method that distinguishes it from all other CFD techniques, yields the following form: \n",
    "$$\n",
    "\\int_{CV} \\nabla \\cdot (\\Gamma \\ \\nabla \\phi) dV + \\int_{CV} S_{\\phi} dV \n",
    "    = \\int_A \\mathbf{n} \\cdot (\\Gamma \\ \\nabla \\phi) dA + \\int_{CV} S_{\\phi} dv = 0\n",
    "$$"
   ]
  },
  {
   "cell_type": "markdown",
   "metadata": {},
   "source": [
    "## One dimensional steady state diffusion\n",
    "\n",
    "Consider the steady state diffusion of a property $\\phi$ in a one-dimension domain. The process is governed by \n",
    "\n",
    "$$\n",
    "\\frac{d}{dx}(\\Gamma \\frac{d \\phi}{dx}) + S = 0\n",
    "$$\n",
    "\n",
    "Where $\\Gamma$ is the diffusion coefficient and S is the source term. Boundary values of $\\phi$ are given as A and B.\n",
    "\n",
    "\n",
    "  \n",
    "A ----o----o----o ... o----o---- B"
   ]
  },
  {
   "cell_type": "markdown",
   "metadata": {},
   "source": [
    "### One dimensional steady state conductive heat transfer\n",
    "\n",
    "$$\n",
    "\\frac{d}{dx}(\\kappa \\frac{d T}{dx}) + S = 0\n",
    "$$\n",
    "\n",
    "where thermal conductivity $\\kappa$ takes the place of $\\Gamma$ in the generic equation and the dependent vairable is temperature $T$.\n"
   ]
  },
  {
   "cell_type": "markdown",
   "metadata": {},
   "source": [
    "#### Example 1\n",
    "Consider the problem of source-free heat conduction in an insulated rod\n",
    "whose ends are maintained at constant temperatures of 100°C and 500°C\n",
    "respectively. The length of the rod is 0.5 m.\n",
    "\n",
    "$$\n",
    "\\frac{d}{dx}(\\kappa \\frac{d T}{dx}) + S = 0\n",
    "$$\n",
    "\n",
    "Calculate the steady state temperature distribution in the rod. Thermal conductivity $\\kappa$ equals 1000 W/m.K, cross-sectional area $A$ is $10 × 10^{-3}$ m"
   ]
  },
  {
   "cell_type": "code",
   "execution_count": 1,
   "metadata": {},
   "outputs": [],
   "source": [
    "import numpy as np\n",
    "\n",
    "# Solution to Example 1\n",
    "\n",
    "L = 0.5\n",
    "n = 5 # number of control volumes\n",
    "dx = L/n\n",
    "k = 1000 # thermal conductivity\n",
    "A = 10e-3 # Area\n",
    "\n",
    "# Boundary conditions\n",
    "T_A = 100\n",
    "T_B = 500\n",
    "\n",
    "mat = np.zeros((n, n))\n",
    "b = np.zeros((n,))\n",
    "\n",
    "# Interior nodal points\n",
    "for i in range(1, n - 1):\n",
    "    aw = k * A / dx\n",
    "    ae = k * A / dx\n",
    "    ap = aw + ae\n",
    "    mat[i, i] = ap\n",
    "    mat[i, i-1] = - aw\n",
    "    mat[i, i + 1] = -ae\n",
    "    \n",
    "\n",
    "# First Node\n",
    "aw = 0\n",
    "ae = k * A / dx\n",
    "sp = - 2 * k * A / dx\n",
    "su = 2 * k * A * T_A/ dx\n",
    "ap = aw + ae -sp\n",
    "mat[0, 0] = ap\n",
    "mat[0, 1] = -ae\n",
    "\n",
    "# Last Node\n",
    "aw = k * A / dx\n",
    "ae = 0\n",
    "sp = - 2 * k * A / dx\n",
    "su = 2 * k * A * T_B/ dx\n",
    "ap = aw + ae - sp\n",
    "mat[n-1, n-1] = ap\n",
    "mat[n-1, n-2] = -aw\n",
    "\n",
    "# \n",
    "b[0] = 200 * T_A\n",
    "b[n-1] = 200 * T_B"
   ]
  },
  {
   "cell_type": "code",
   "execution_count": 2,
   "metadata": {},
   "outputs": [
    {
     "data": {
      "text/plain": [
       "array([140., 220., 300., 380., 460.])"
      ]
     },
     "execution_count": 2,
     "metadata": {},
     "output_type": "execute_result"
    }
   ],
   "source": [
    "\n",
    "np.linalg.solve(mat, b)"
   ]
  },
  {
   "cell_type": "code",
   "execution_count": null,
   "metadata": {},
   "outputs": [],
   "source": [
    "import numpy as np\n",
    "\n",
    "L = 0.5\n",
    "n = 5  # number of control volumes\n",
    "dx = L / n\n",
    "k = 1000  # thermal conductivity\n",
    "A = 10e-3  # Area\n",
    "\n",
    "# Boundary conditions\n",
    "T_A = 100\n",
    "T_B = 500\n",
    "\n",
    "# Create diagonal, lower, and upper diagonals\n",
    "aw = np.full(n - 1, k * A / dx)\n",
    "ae = np.full(n - 1, k * A / dx)\n",
    "ap = np.full(n, 0.0)\n",
    "\n",
    "# Boundary node values\n",
    "ap[0] = k * A / dx\n",
    "ap[n - 1] = k * A / dx\n",
    "\n",
    "# Create the main diagonal\n",
    "ap[1:n - 1] = aw + ae\n",
    "\n",
    "# Create the coefficient matrix\n",
    "mat = np.diag(ap) + np.diag(-aw, -1) + np.diag(-ae, 1)\n",
    "\n",
    "# Create the right-hand side vector\n",
    "b = np.zeros(n)\n",
    "b[0] = 2 * k * A * T_A / dx\n",
    "b[n - 1] = 2 * k * A * T_B / dx\n"
   ]
  },
  {
   "cell_type": "code",
   "execution_count": 3,
   "metadata": {},
   "outputs": [
    {
     "data": {
      "text/plain": [
       "array([[0, 1, 2],\n",
       "       [3, 4, 5],\n",
       "       [6, 7, 8]])"
      ]
     },
     "execution_count": 3,
     "metadata": {},
     "output_type": "execute_result"
    }
   ],
   "source": [
    "# TODO: 1D with constant source\n",
    "# TODO: 1D with linear source\n",
    "# TODO: Simple 2D and 3D\n",
    "\n",
    "import numpy as np\n",
    "field = np.arange(9).reshape(3,3)\n",
    "field"
   ]
  },
  {
   "cell_type": "code",
   "execution_count": 7,
   "metadata": {},
   "outputs": [],
   "source": [
    "def foward_diff_x(f, dx):\n",
    "    diff = np.zeros_like(f)\n",
    "\n",
    "    diff[:, :-1] = (f[:, 1:] - f[:, :-1] )/dx\n",
    "    return diff\n",
    "    "
   ]
  },
  {
   "cell_type": "code",
   "execution_count": 8,
   "metadata": {},
   "outputs": [
    {
     "data": {
      "text/plain": [
       "array([[1, 1, 0],\n",
       "       [1, 1, 0],\n",
       "       [1, 1, 0]])"
      ]
     },
     "execution_count": 8,
     "metadata": {},
     "output_type": "execute_result"
    }
   ],
   "source": [
    "foward_diff_x(field, 1)"
   ]
  },
  {
   "cell_type": "code",
   "execution_count": 6,
   "metadata": {},
   "outputs": [
    {
     "data": {
      "text/plain": [
       "array([[3, 4, 5],\n",
       "       [6, 7, 8]])"
      ]
     },
     "execution_count": 6,
     "metadata": {},
     "output_type": "execute_result"
    }
   ],
   "source": [
    "field[1:, :]"
   ]
  },
  {
   "cell_type": "code",
   "execution_count": null,
   "metadata": {},
   "outputs": [],
   "source": []
  }
 ],
 "metadata": {
  "kernelspec": {
   "display_name": ".venv",
   "language": "python",
   "name": "python3"
  },
  "language_info": {
   "codemirror_mode": {
    "name": "ipython",
    "version": 3
   },
   "file_extension": ".py",
   "mimetype": "text/x-python",
   "name": "python",
   "nbconvert_exporter": "python",
   "pygments_lexer": "ipython3",
   "version": "3.11.5"
  },
  "orig_nbformat": 4
 },
 "nbformat": 4,
 "nbformat_minor": 2
}
