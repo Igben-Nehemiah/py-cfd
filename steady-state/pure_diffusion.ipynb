{
 "cells": [
  {
   "cell_type": "markdown",
   "metadata": {},
   "source": [
    "# The finite volume method for diffusion problems\n",
    "The governing equation of steady state diffusion of a transport property $\\phi$ is given as \n",
    "$$\n",
    "\\nabla \\cdot (\\Gamma \\ \\nabla \\phi) + S_{\\phi} = 0\n",
    "$$\n",
    "\n",
    "The control volume integration, which forms the key step of the finite volume method that distinguishes it from all other CFD techniques, yields the following form: \n",
    "$$\n",
    "\\int_{CV} \\nabla \\cdot (\\Gamma \\ \\nabla \\phi) dV + \\int_{CV} S_{\\phi} dV \n",
    "    = \\int_A \\mathbf{n} \\cdot (\\Gamma \\ \\nabla \\phi) dA + \\int_{CV} S_{\\phi} dv = 0\n",
    "$$"
   ]
  },
  {
   "cell_type": "markdown",
   "metadata": {},
   "source": [
    "## One dimensional steady state diffusion\n",
    "\n",
    "Consider the steady state diffusion of a property $\\phi$ in a one-dimension domain. The process is governed by \n",
    "\n",
    "$$\n",
    "\\frac{d}{dx}(\\Gamma \\frac{d \\phi}{dx}) + S = 0\n",
    "$$\n",
    "\n",
    "Where $\\Gamma$ is the diffusion coefficient and S is the source term. Boundary values of $\\phi$ are given as A and B.\n",
    "\n",
    "\n",
    "  \n",
    "A ----o----o----o ... o----o---- B"
   ]
  },
  {
   "cell_type": "markdown",
   "metadata": {},
   "source": [
    "### One dimensional steady state conductive heat transfer\n",
    "\n",
    "$$\n",
    "\\frac{d}{dx}(\\kappa \\frac{d T}{dx}) + S = 0\n",
    "$$\n",
    "\n",
    "where thermal conductivity $\\kappa$ takes the place of $\\Gamma$ in the generic equation and the dependent vairable is temperature $T$.\n"
   ]
  },
  {
   "cell_type": "markdown",
   "metadata": {},
   "source": [
    "#### Example 1\n",
    "Consider the problem of source-free heat conduction in an insulated rod\n",
    "whose ends are maintained at constant temperatures of 100°C and 500°C\n",
    "respectively. The length of the rod is 0.5 m.\n",
    "\n",
    "$$\n",
    "\\frac{d}{dx}(\\kappa \\frac{d T}{dx}) + S = 0\n",
    "$$\n",
    "\n",
    "Calculate the steady state temperature distribution in the rod. Thermal conductivity $\\kappa$ equals 1000 W/m.K, cross-sectional area $A$ is $10 × 10^{-3}$ m"
   ]
  },
  {
   "cell_type": "code",
   "execution_count": null,
   "metadata": {},
   "outputs": [],
   "source": [
    "import numpy as np\n",
    "\n",
    "# Solution to Example 1\n",
    "\n",
    "L = 0.5\n",
    "n = 5 # number of control volumes\n",
    "dx = L/n\n",
    "\n"
   ]
  }
 ],
 "metadata": {
  "language_info": {
   "name": "python"
  },
  "orig_nbformat": 4
 },
 "nbformat": 4,
 "nbformat_minor": 2
}
