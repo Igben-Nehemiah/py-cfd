{
 "cells": [
  {
   "cell_type": "markdown",
   "metadata": {},
   "source": [
    "The governing equation of steady state diffusion of a transport property $\\phi$ is given as \n",
    "$$\n",
    "\\nabla \\cdot (\\Gamma \\ \\nabla \\phi) + S_{\\phi} = 0\n",
    "$$\n",
    "\n",
    "The control volume integration, which forms the key step of the finite volume method that distinguishes it from all other CFD techniques, yields the following form: \n",
    "$$\n",
    "\\int_{CV} \\nabla \\cdot (\\Gamma \\ \\nabla \\phi) dV + \\int_{CV} S_{\\phi} dV \n",
    "    = \\int_A \\mathbf{n} \\cdot (\\Gamma \\ \\nabla \\phi) dA + \\int_{CV} S_{\\phi} dv = 0\n",
    "$$"
   ]
  },
  {
   "cell_type": "code",
   "execution_count": null,
   "metadata": {},
   "outputs": [],
   "source": []
  }
 ],
 "metadata": {
  "language_info": {
   "name": "python"
  },
  "orig_nbformat": 4
 },
 "nbformat": 4,
 "nbformat_minor": 2
}
