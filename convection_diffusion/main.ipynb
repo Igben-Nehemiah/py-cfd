{
 "cells": [
  {
   "cell_type": "code",
   "execution_count": 23,
   "metadata": {},
   "outputs": [
    {
     "data": {
      "text/plain": [
       "array([0.94210996, 0.80060097, 0.62764554, 0.41625556, 0.15789004])"
      ]
     },
     "execution_count": 23,
     "metadata": {},
     "output_type": "execute_result"
    }
   ],
   "source": [
    "# 1D with central differencing scheme\n",
    "\n",
    "import numpy as np\n",
    "from scipy.sparse import diags\n",
    "from scipy.sparse.linalg import spsolve\n",
    "\n",
    "# TODO: Add reference later\n",
    "\"\"\"\n",
    "A property φ is transported by means of convection and diffusion through\n",
    "the one-dimensional domain; the boundary conditions are φ0 = 1 at x = 0 and \n",
    "φL = 0 at x = L. Using five equally spaced cells and the central differencing \n",
    "scheme for convection and diffusion, calculate the distribution of φ as a \n",
    "function of x for (i) Case 1: u = 0.1 m/s, (ii) Case 2: u = 2.5 m/s, \n",
    "and compare the results with the analytical solution (iii) Case 3: recalculate \n",
    "the solution for u = 2.5 m/s with 20 grid nodes and compare the results with \n",
    "the analytical solution. The following data apply: length L = 1.0 m, ρ = 1.0 kg/m3\n",
    ", Γ = 0.1 kg/m.s.\n",
    "\"\"\"\n",
    "\n",
    "import numpy as np\n",
    "from scipy.sparse import diags\n",
    "from scipy.sparse.linalg import spsolve\n",
    "\n",
    "# Parameters\n",
    "L = 1.0              # Length in m\n",
    "rho = 1.0            # Density in kg/m3\n",
    "k = 0.1              # Diffusivity in kg/m.s\n",
    "u = 0.1              # Velocity in m/s\n",
    "n_nodes = 5\n",
    "dx = L / n_nodes\n",
    "\n",
    "# Boundary conditions\n",
    "phi_x0 = 1\n",
    "phi_xL = 0\n",
    "\n",
    "# Calculate diffusion and mass flux terms\n",
    "D = k / dx            # Diffusion conductance\n",
    "F = u * rho           # Mass flux per unit area\n",
    "\n",
    "# Calculate control volume nodes\n",
    "x_grid = np.linspace(0, L - dx, n_nodes) + dx / 2\n",
    "\n",
    "# Initialise the right-hand side vector\n",
    "b = np.zeros(n_nodes)\n",
    "\n",
    "# Initialise the diagonals of the matrix\n",
    "a_W = D + 0.5 * F\n",
    "a_E = D - 0.5 * F\n",
    "a_P = a_W + a_E \n",
    "\n",
    "# Set up the main diagonal, super-diagonal, and sub-diagonal\n",
    "main_diag = np.full(n_nodes, a_P)\n",
    "sup_diag = np.full(n_nodes - 1, -a_E)\n",
    "sub_diag = np.full(n_nodes - 1, -a_W)\n",
    "\n",
    "# Modify the first and last nodes for boundary conditions\n",
    "main_diag[0] = a_E + (2 * D + F)\n",
    "b[0] = (2 * D + F) * phi_x0\n",
    "main_diag[-1] = a_W + (2 * D - F)\n",
    "b[-1] = (2 * D - F) * phi_xL\n",
    "\n",
    "# Create a sparse tridiagonal matrix\n",
    "diagonals = [main_diag, sup_diag, sub_diag]\n",
    "A = diags(diagonals, [0, 1, -1], format='csr')\n",
    "\n",
    "# Solve the linear system\n",
    "x = spsolve(A, b)\n"
   ]
  },
  {
   "cell_type": "code",
   "execution_count": null,
   "metadata": {},
   "outputs": [],
   "source": []
  }
 ],
 "metadata": {
  "kernelspec": {
   "display_name": ".venv",
   "language": "python",
   "name": "python3"
  },
  "language_info": {
   "codemirror_mode": {
    "name": "ipython",
    "version": 3
   },
   "file_extension": ".py",
   "mimetype": "text/x-python",
   "name": "python",
   "nbconvert_exporter": "python",
   "pygments_lexer": "ipython3",
   "version": "3.11.6"
  }
 },
 "nbformat": 4,
 "nbformat_minor": 2
}
