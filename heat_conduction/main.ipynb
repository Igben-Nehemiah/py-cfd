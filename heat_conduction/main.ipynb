{
 "cells": [
  {
   "cell_type": "code",
   "execution_count": null,
   "metadata": {},
   "outputs": [],
   "source": [
    "import numpy as np \n"
   ]
  },
  {
   "cell_type": "markdown",
   "metadata": {},
   "source": [
    "### Interface Conductivity\n",
    "\n",
    "\n",
    "       P            e                E\n",
    "     --o------------|----------------o--\n",
    "\n",
    "       |-- (dx)e- --|---- (dx)e+ ----|\n",
    "       |------------ dx -------------|\n",
    "\n",
    "For a steady, no-source, one-dimensional situation in which coductivity varies in a stepwise fashion from on e control volume to the next, the interface-conductivity formulat is given as\n",
    "\n",
    "\n",
    "\n",
    "$$\n",
    "\n",
    "k_e = \\left(\\frac{1-f_e}{k_P} + \\frac{f_e}{k_E} \\right) ^{-1}\n",
    "\n",
    "\\\\\n",
    "{\n",
    "\n",
    "  f_e = \\frac{(\\delta x)_{e+}}{(\\delta x)_{e}}\n",
    "}\n",
    "\n",
    "$$\n",
    "\n",
    "\n"
   ]
  },
  {
   "cell_type": "code",
   "execution_count": null,
   "metadata": {},
   "outputs": [],
   "source": [
    "def interface_k(k_P, k_E, dx, dxe):\n",
    "    f_e = dxe/dx\n",
    "    return ((1-f_e)/k_P + f_e/k_E)**-1"
   ]
  },
  {
   "cell_type": "code",
   "execution_count": null,
   "metadata": {},
   "outputs": [],
   "source": []
  },
  {
   "cell_type": "markdown",
   "metadata": {},
   "source": []
  }
 ],
 "metadata": {
  "kernelspec": {
   "display_name": ".venv",
   "language": "python",
   "name": "python3"
  },
  "language_info": {
   "name": "python",
   "version": "3.11.6"
  }
 },
 "nbformat": 4,
 "nbformat_minor": 2
}
