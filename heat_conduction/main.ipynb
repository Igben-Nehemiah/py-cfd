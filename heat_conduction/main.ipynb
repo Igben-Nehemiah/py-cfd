{
 "cells": [
  {
   "cell_type": "markdown",
   "metadata": {},
   "source": [
    "### Interface Conductivity\n",
    "\n",
    "\n",
    "       P            e                E\n",
    "     --o------------|----------------o--\n",
    "\n",
    "       |-- (dx)e- --|---- (dx)e+ ----|\n",
    "       |------------ dx -------------|\n",
    "\n",
    "For a steady, no-source, one-dimensional situation in which coductivity varies in a stepwise fashion from on e control volume to the next, the interface-conductivity formulat is given as\n",
    "\n",
    "\n",
    "\n",
    "$$\n",
    "\n",
    "k_e = \\left(\\frac{1-f_e}{k_P} + \\frac{f_e}{k_E} \\right) ^{-1}\n",
    "\n",
    "\\\\\n",
    "{\n",
    "\n",
    "  f_e = \\frac{(\\delta x)_{e+}}{(\\delta x)_{e}}\n",
    "}\n",
    "\n",
    "$$\n",
    "\n",
    "\n"
   ]
  },
  {
   "cell_type": "code",
   "execution_count": null,
   "metadata": {},
   "outputs": [],
   "source": [
    "def interface_k(k_P, k_E, dx, dxe):\n",
    "    f_e = dxe/dx\n",
    "    return ((1-f_e)/k_P + f_e/k_E)**-1"
   ]
  },
  {
   "cell_type": "code",
   "execution_count": 52,
   "metadata": {},
   "outputs": [
    {
     "name": "stdout",
     "output_type": "stream",
     "text": [
      "[[ 1.e+30 -2.e+02  0.e+00  0.e+00  0.e+00  0.e+00  0.e+00]\n",
      " [-2.e+02  3.e+02 -1.e+02  0.e+00  0.e+00  0.e+00  0.e+00]\n",
      " [ 0.e+00 -1.e+02  2.e+02 -1.e+02  0.e+00  0.e+00  0.e+00]\n",
      " [ 0.e+00  0.e+00 -1.e+02  2.e+02 -1.e+02  0.e+00  0.e+00]\n",
      " [ 0.e+00  0.e+00  0.e+00 -1.e+02  2.e+02 -1.e+02  0.e+00]\n",
      " [ 0.e+00  0.e+00  0.e+00  0.e+00 -1.e+02  3.e+02 -2.e+02]\n",
      " [ 0.e+00  0.e+00  0.e+00  0.e+00  0.e+00 -2.e+02  1.e+30]]\n",
      "[ 99.9999985  139.99999789 219.99999669 299.99999549 379.99999428\n",
      " 459.99999308 499.99999248]\n"
     ]
    }
   ],
   "source": [
    "import numpy as np\n",
    "from scipy.sparse import diags\n",
    "from scipy.sparse.linalg import spsolve\n",
    "\n",
    "\n",
    "node_type_def = np.dtype([\n",
    "    ('w', '<f4'),\n",
    "    ('temp', '<f4')\n",
    "])\n",
    "\n",
    "T_A = 100\n",
    "T_B = 500\n",
    "T_init = 0\n",
    "\n",
    "width = 0.5\n",
    "n_nodes = 5\n",
    "\n",
    "dx = width/n_nodes\n",
    "\n",
    "k_e = 1000\n",
    "A = A_e = A_w = 1*10e-3\n",
    "\n",
    "nodes_list = [\n",
    "    (0, T_A), # left boundary\n",
    "    (dx, T_init),\n",
    "    (dx, T_init),\n",
    "    (dx, T_init),\n",
    "    (dx, T_init),\n",
    "    (dx, T_init),\n",
    "    (0, T_B) # right boundary\n",
    "]\n",
    "\n",
    "nodes = np.array(nodes_list, dtype=node_type_def)\n",
    "\n",
    "# This gives the distance betweeen the centers of adjacent control volumes\n",
    "# dx_we = nodes[1:-1]['w']*0.5 + nodes[0:-1]['w']*0.5\n",
    "\n",
    "dx_we = nodes[1:]['w']*0.5 + nodes[0:-1]['w']*0.5\n",
    "# dx_e = nodes[1:-1]['w']*0.5 + nodes[2:]['w']*0.5\n",
    "\n",
    "a_ws = k_e * A_w / dx_we\n",
    "a_es = k_e * A_e / dx_we\n",
    "\n",
    "\n",
    "\n",
    "a_ps = a_ws[1:] + a_es[:-1]\n",
    "\n",
    "a_ps = np.pad(a_ps, (1, 1), mode='constant', constant_values=(0, 0))\n",
    "\n",
    "# a_ws = np.pad(a_ws, (1, 0), mode='constant')\n",
    "\n",
    "NORMALISER = 1e30\n",
    "\n",
    "a_ps[0] = a_ps[-1] = 1*NORMALISER\n",
    "\n",
    "mat = [-a_ws, a_ps, -a_es]\n",
    "\n",
    "b = np.zeros((7,1))\n",
    "\n",
    "b[0] = 100*NORMALISER\n",
    "b[-1] = 500*NORMALISER\n",
    "\n",
    "\n",
    "A = diags(mat, [-1, 0, 1], format='csr')\n",
    "\n",
    "x = spsolve(A, b)\n",
    "\n",
    "print(A.toarray())\n",
    "print(x)\n"
   ]
  },
  {
   "cell_type": "code",
   "execution_count": null,
   "metadata": {},
   "outputs": [],
   "source": []
  },
  {
   "cell_type": "code",
   "execution_count": null,
   "metadata": {},
   "outputs": [],
   "source": []
  }
 ],
 "metadata": {
  "kernelspec": {
   "display_name": ".venv",
   "language": "python",
   "name": "python3"
  },
  "language_info": {
   "codemirror_mode": {
    "name": "ipython",
    "version": 3
   },
   "file_extension": ".py",
   "mimetype": "text/x-python",
   "name": "python",
   "nbconvert_exporter": "python",
   "pygments_lexer": "ipython3",
   "version": "3.11.6"
  }
 },
 "nbformat": 4,
 "nbformat_minor": 2
}
