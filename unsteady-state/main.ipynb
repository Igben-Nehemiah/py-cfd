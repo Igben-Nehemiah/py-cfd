{
 "cells": [
  {
   "cell_type": "markdown",
   "metadata": {},
   "source": [
    "# The finite volume method for unsteady flow\n",
    "\n",
    "The conservation law for the transport of a scalar in an unsteady flow has the general form\n",
    "\n",
    "$$\n",
    "\\frac{\\partial}{\\partial {t}} (\\rho \\phi) + div (\\rho \\textbf{u} \\phi) \n",
    "= div (\\Gamma\\ grad \\ \\phi) + S_{\\phi}\n",
    "$$"
   ]
  },
  {
   "cell_type": "markdown",
   "metadata": {},
   "source": [
    "## 1D unsteady state heat conduction\n",
    "\n",
    "$$\n",
    "\\rho c \\frac{\\partial{T}}{\\partial{t}} = \\frac{\\partial}{\\partial{x}} (k\\frac{\\partial{T}}{\\partial{x}}) + S\n",
    "$$"
   ]
  },
  {
   "cell_type": "markdown",
   "metadata": {},
   "source": [
    "\n",
    "**Question**\n",
    "\n",
    "A thin plate is initially at a uniform temperature of 200°C. At a certain time\n",
    "t = 0 the temperature of the east side of the plate is suddenly reduced to 0°C.\n",
    "The other surface is insulated. Use the explicit finite volume method in conjunction with a suitable time step size to calculate the transient temperature\n",
    "distribution of the slab and compare it with the analytical solution at time \n",
    "(i) t = 40 s, (ii) t = 80 s and (iii) t = 120 s. Recalculate the numerical solution\n",
    "using a time step size equal to the limit given by for t = 40 s and compare the results with the analytical solution. The data are: plate thickness \n",
    "L = 2 cm, thermal conductivity k = 10 W/m.K and ρc = 10 × 10^6 J/m3.K. \n",
    "\n",
    "// TODO: Add reference later"
   ]
  },
  {
   "cell_type": "markdown",
   "metadata": {},
   "source": [
    "The 1D transient heat conduction equation is \n",
    "\n",
    "\n",
    "$$\n",
    "\\rho c \\frac{\\partial{T}}{\\partial{t}} = \\frac{\\partial}{\\partial{x}} (k\\frac{\\partial{T}}{\\partial{x}})\n",
    "$$\n",
    "\n",
    "and the initial conditions are \n",
    "\n",
    "$$\n",
    "T = 200\\ at\\ t = 0\n",
    "$$\n",
    "and the boundary conditions are\n",
    "$$\n",
    "\\frac{\\partial{T}}{\\partial{x}} = 0\\ at\\ x=0,\\ t>0\n",
    "\\\\ T = 0\\ at\\ x = L,\\ t>0\n",
    "$$"
   ]
  },
  {
   "cell_type": "code",
   "execution_count": null,
   "metadata": {},
   "outputs": [],
   "source": [
    "import numpy as np\n",
    "\n",
    "np.abs"
   ]
  },
  {
   "cell_type": "code",
   "execution_count": 67,
   "metadata": {},
   "outputs": [],
   "source": [
    "from math import cos, exp, pi, inf\n",
    "\n",
    "def analytical_sol(x: float, t: float, alpha: float, \n",
    "                   L: float, T_init: float,tol=1e-6, max_iter=1000):\n",
    "    '''\n",
    "    An implementation of the analytical solution given by Ozisik (1985).\n",
    "\n",
    "    Parameters:\n",
    "        x (float): position in rod\n",
    "        t (float): time\n",
    "        alpha (float): thermal diffusivity = k/pc\n",
    "        L (float): length of rod\n",
    "        T_init (float): initial temperature of rod\n",
    "        tol (float): calculation tolerance\n",
    "        max_iter (int): Maximum number of iterations\n",
    "\n",
    "    Returns:\n",
    "        temperature (float): Temperature of rod at position 'x' and time 't'\n",
    "    '''\n",
    "\n",
    "    calc_tol = inf\n",
    "    sum_n_1 = 0\n",
    "    sum_n = 0\n",
    "    n = 1\n",
    "\n",
    "    while (tol < calc_tol):\n",
    "        lambda_n = (2*n - 1)* pi/(2 * L)\n",
    "        sum_n += (((-1)**(n + 1))/(2*n - 1)) * exp(-alpha * lambda_n**2 * t) * cos(lambda_n * x)\n",
    "\n",
    "        calc_tol = abs(sum_n - sum_n_1)\n",
    "        sum_n_1 = sum_n\n",
    "\n",
    "        if (n > max_iter): return f\"Failed to converge in {max_iter} iterations\"\n",
    "        \n",
    "        n+=1\n",
    "    \n",
    "    return sum_n * (4/pi) * T_init\n",
    "\n"
   ]
  },
  {
   "cell_type": "code",
   "execution_count": 68,
   "metadata": {},
   "outputs": [],
   "source": [
    "# Analytical solution\n",
    "result = analytical_sol(0.01, 40, (10/(10*1e6)), 0.02, 200)\n"
   ]
  },
  {
   "cell_type": "code",
   "execution_count": 105,
   "metadata": {},
   "outputs": [
    {
     "data": {
      "text/plain": [
       "array([[200.        , 200.        , 200.        , 200.        ,\n",
       "        200.        ],\n",
       "       [200.        , 200.        , 200.        , 200.        ,\n",
       "        141.5       ],\n",
       "       [200.        , 200.        , 200.        , 191.444375  ,\n",
       "        107.41561484],\n",
       "       [200.        , 200.        , 198.74873984, 180.40642898,\n",
       "         86.67145407],\n",
       "       [199.97323672, 199.8170032 , 196.24917368, 169.38025187,\n",
       "         73.41621543],\n",
       "       [199.87741673, 199.31805729, 192.84138893, 159.27509135,\n",
       "         64.49883302],\n",
       "       [199.66904472, 198.45265086, 188.87953066, 150.32313459,\n",
       "         58.18472847],\n",
       "       [199.31240457, 197.23047963, 184.64072656, 142.48676562,\n",
       "         53.49486832],\n",
       "       [198.78317046, 195.69370977, 180.31696116, 135.63671743,\n",
       "         49.86086477],\n",
       "       [198.06852326, 193.89669391, 176.031325  , 129.62648462,\n",
       "         46.94228373]])"
      ]
     },
     "execution_count": 105,
     "metadata": {},
     "output_type": "execute_result"
    }
   ],
   "source": [
    "# Explicit solution\n",
    "import numpy as np\n",
    "\n",
    "k = 10\n",
    "rho = 10\n",
    "c = 1e6\n",
    "L = 0.02\n",
    "time_span = 20\n",
    "dt = 2.34\n",
    "\n",
    "n_nodes = 5\n",
    "dx = L/n_nodes\n",
    "\n",
    "# Initial condition\n",
    "T_init = np.ones(n_nodes) * 200\n",
    "\n",
    "# Boundary conditions\n",
    "T_B = 0 # East side temperature fixed at 0\n",
    "\n",
    "T = np.copy(T_init)\n",
    "\n",
    "# Condition for convergence\n",
    "dt_critical = rho * c * dt**2 / (2 * k)\n",
    "\n",
    "if (dt > dt_critical): raise ValueError('Time delta is greater than critical time delta')\n",
    "\n",
    "t = 0\n",
    "\n",
    "# Temperature profile \n",
    "n_time_steps = int(time_span/dt)\n",
    "T_profile = np.zeros((n_time_steps + 2, len(T)))\n",
    "\n",
    "T_profile[0] = T\n",
    "\n",
    "i = 1\n",
    "while(t <= time_span):\n",
    "    t += dt\n",
    "    \n",
    "    k_dx = k/dx\n",
    "    a_W, a_E = k_dx, k_dx\n",
    "    a_P = rho * c * dx/dt\n",
    "\n",
    "    # Internal nodes \n",
    "    T[1:-1] = (a_W * T[0:-2] + a_E * T[2:] + (a_P - (a_W + a_E)) * T[1:-1]) / a_P\n",
    "\n",
    "    # Boundary nodes\n",
    "    T[0] = (a_E * T[1] + (a_P - a_E) * T[0])/a_P\n",
    "    T[-1] = (a_W * T[-2] + (a_P - a_W) * T[-1] + 2 * k_dx * (T_B - T[-1]))/a_P\n",
    "\n",
    "    T_profile[i] = T\n",
    "    i += 1"
   ]
  },
  {
   "cell_type": "code",
   "execution_count": null,
   "metadata": {},
   "outputs": [],
   "source": []
  },
  {
   "cell_type": "code",
   "execution_count": null,
   "metadata": {},
   "outputs": [],
   "source": []
  }
 ],
 "metadata": {
  "kernelspec": {
   "display_name": ".venv",
   "language": "python",
   "name": "python3"
  },
  "language_info": {
   "codemirror_mode": {
    "name": "ipython",
    "version": 3
   },
   "file_extension": ".py",
   "mimetype": "text/x-python",
   "name": "python",
   "nbconvert_exporter": "python",
   "pygments_lexer": "ipython3",
   "version": "3.11.5"
  },
  "orig_nbformat": 4
 },
 "nbformat": 4,
 "nbformat_minor": 2
}
