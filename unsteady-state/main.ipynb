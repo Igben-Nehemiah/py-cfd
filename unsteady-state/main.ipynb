{
 "cells": [
  {
   "cell_type": "markdown",
   "metadata": {},
   "source": [
    "# The finite volume method for unsteady flow\n",
    "\n",
    "The conservation law for the transport of a scalar in an unsteady flow has the general form\n",
    "\n",
    "$$\n",
    "\\frac{\\partial}{\\partial {t}} (\\rho \\phi) + div (\\rho \\textbf{u} \\phi) \n",
    "= div (\\Gamma\\ grad \\ \\phi) + S_{\\phi}\n",
    "$$"
   ]
  },
  {
   "cell_type": "markdown",
   "metadata": {},
   "source": [
    "## 1D unsteady state heat conduction\n",
    "\n",
    "$$\n",
    "\\rho c \\frac{\\partial{T}}{\\partial{t}} = \\frac{\\partial}{\\partial{x}} (k\\frac{\\partial{T}}{\\partial{x}}) + S\n",
    "$$"
   ]
  },
  {
   "cell_type": "markdown",
   "metadata": {},
   "source": [
    "\n",
    "**Question:**\n",
    "A thin plate is initially at a uniform temperature of 200°C. At a certain time\n",
    "t = 0 the temperature of the east side of the plate is suddenly reduced to 0°C.\n",
    "The other surface is insulated. Use the explicit finite volume method in conjunction with a suitable time step size to calculate the transient temperature\n",
    "distribution of the slab and compare it with the analytical solution at time \n",
    "(i) t = 40 s, (ii) t = 80 s and (iii) t = 120 s. Recalculate the numerical solution\n",
    "using a time step size equal to the limit given by (8.13) for t = 40 s and compare the results with the analytical solution. The data are: plate thickness \n",
    "L = 2 cm, thermal conductivity k = 10 W/m.K and ρc = 10 × 106 J/m3.K."
   ]
  },
  {
   "cell_type": "code",
   "execution_count": null,
   "metadata": {},
   "outputs": [],
   "source": [
    "# Explicit solution\n",
    "\n",
    "\n"
   ]
  }
 ],
 "metadata": {
  "kernelspec": {
   "display_name": ".venv",
   "language": "python",
   "name": "python3"
  },
  "language_info": {
   "name": "python",
   "version": "3.11.5"
  },
  "orig_nbformat": 4
 },
 "nbformat": 4,
 "nbformat_minor": 2
}
