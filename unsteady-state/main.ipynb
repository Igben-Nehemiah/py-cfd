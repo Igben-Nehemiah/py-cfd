{
 "cells": [
  {
   "cell_type": "markdown",
   "metadata": {},
   "source": [
    "# The finite volume method for unsteady flow\n",
    "\n",
    "The conservation law for the transport of a scalar in an unsteady flow has the general form\n",
    "\n",
    "$$\n",
    "\\frac{\\partial}{\\partial {t}} (\\rho \\phi) + div (\\rho \\textbf{u} \\phi) \n",
    "= div (\\Gamma\\ grad \\ \\phi) + S_{\\phi}\n",
    "$$"
   ]
  },
  {
   "cell_type": "markdown",
   "metadata": {},
   "source": [
    "## 1D unsteady state heat conduction\n",
    "\n",
    "$$\n",
    "\\rho c \\frac{\\partial{T}}{\\partial{t}} = \\frac{\\partial}{\\partial{x}} (k\\frac{\\partial{T}}{\\partial{x}}) + S\n",
    "$$"
   ]
  },
  {
   "cell_type": "code",
   "execution_count": null,
   "metadata": {},
   "outputs": [],
   "source": [
    "# Unsteady state 1D heat equation\n",
    "\n",
    "\n"
   ]
  }
 ],
 "metadata": {
  "kernelspec": {
   "display_name": ".venv",
   "language": "python",
   "name": "python3"
  },
  "language_info": {
   "name": "python",
   "version": "3.11.5"
  },
  "orig_nbformat": 4
 },
 "nbformat": 4,
 "nbformat_minor": 2
}
