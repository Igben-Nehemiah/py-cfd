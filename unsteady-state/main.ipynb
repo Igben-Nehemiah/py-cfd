{
 "cells": [
  {
   "cell_type": "markdown",
   "metadata": {},
   "source": [
    "# The finite volume method for unsteady flow\n",
    "\n",
    "The conservation law for the transport of a scalar in an unsteady flow has the general form\n",
    "\n",
    "$$\n",
    "\\frac{\\partial}{\\partial {t}} (\\rho \\phi) + div (\\rho \\textbf{u} \\phi) \n",
    "= div (\\Gamma\\ grad \\ \\phi) + S_{\\phi}\n",
    "$$"
   ]
  },
  {
   "cell_type": "markdown",
   "metadata": {},
   "source": [
    "## 1D unsteady state heat conduction\n",
    "\n",
    "$$\n",
    "\\rho c \\frac{\\partial{T}}{\\partial{t}} = \\frac{\\partial}{\\partial{x}} (k\\frac{\\partial{T}}{\\partial{x}}) + S\n",
    "$$"
   ]
  },
  {
   "cell_type": "markdown",
   "metadata": {},
   "source": [
    "\n",
    "**Question**\n",
    "\n",
    "A thin plate is initially at a uniform temperature of 200°C. At a certain time\n",
    "t = 0 the temperature of the east side of the plate is suddenly reduced to 0°C.\n",
    "The other surface is insulated. Use the explicit finite volume method in conjunction with a suitable time step size to calculate the transient temperature\n",
    "distribution of the slab and compare it with the analytical solution at time \n",
    "(i) t = 40 s, (ii) t = 80 s and (iii) t = 120 s. Recalculate the numerical solution\n",
    "using a time step size equal to the limit given by for t = 40 s and compare the results with the analytical solution. The data are: plate thickness \n",
    "L = 2 cm, thermal conductivity k = 10 W/m.K and ρc = 10 × 10^6 J/m3.K. \n",
    "\n",
    "// TODO: Add reference later"
   ]
  },
  {
   "cell_type": "markdown",
   "metadata": {},
   "source": [
    "The 1D transient heat conduction equation is \n",
    "\n",
    "\n",
    "$$\n",
    "\\rho c \\frac{\\partial{T}}{\\partial{t}} = \\frac{\\partial}{\\partial{x}} (k\\frac{\\partial{T}}{\\partial{x}})\n",
    "$$\n",
    "\n",
    "and the initial conditions are \n",
    "\n",
    "$$\n",
    "T = 200\\ at\\ t = 0\n",
    "$$\n",
    "and the boundary conditions are\n",
    "$$\n",
    "\\frac{\\partial{T}}{\\partial{x}} = 0\\ at\\ x=0,\\ t>0\n",
    "\\\\ T = 0\\ at\\ x = L,\\ t>0\n",
    "$$"
   ]
  },
  {
   "cell_type": "code",
   "execution_count": null,
   "metadata": {},
   "outputs": [],
   "source": [
    "import numpy as np\n",
    "\n",
    "np.abs"
   ]
  },
  {
   "cell_type": "code",
   "execution_count": 67,
   "metadata": {},
   "outputs": [],
   "source": [
    "from math import cos, exp, pi, inf\n",
    "\n",
    "def analytical_sol(x: float, t: float, alpha: float, \n",
    "                   L: float, T_init: float,tol=1e-6, max_iter=1000):\n",
    "    '''\n",
    "    An implementation of the analytical solution given by Ozisik (1985).\n",
    "\n",
    "    Parameters:\n",
    "        x (float): position in rod\n",
    "        t (float): time\n",
    "        alpha (float): thermal diffusivity = k/pc\n",
    "        L (float): length of rod\n",
    "        T_init (float): initial temperature of rod\n",
    "        tol (float): calculation tolerance\n",
    "        max_iter (int): Maximum number of iterations\n",
    "\n",
    "    Returns:\n",
    "        temperature (float): Temperature of rod at position 'x' and time 't'\n",
    "    '''\n",
    "\n",
    "    calc_tol = inf\n",
    "    sum_n_1 = 0\n",
    "    sum_n = 0\n",
    "    n = 1\n",
    "\n",
    "    while (tol < calc_tol):\n",
    "        lambda_n = (2*n - 1)* pi/(2 * L)\n",
    "        sum_n += (((-1)**(n + 1))/(2*n - 1)) * exp(-alpha * lambda_n**2 * t) * cos(lambda_n * x)\n",
    "\n",
    "        calc_tol = abs(sum_n - sum_n_1)\n",
    "        sum_n_1 = sum_n\n",
    "\n",
    "        if (n > max_iter): return f\"Failed to converge in {max_iter} iterations\"\n",
    "        \n",
    "        n+=1\n",
    "    \n",
    "    return sum_n * (4/pi) * T_init\n",
    "\n"
   ]
  },
  {
   "cell_type": "code",
   "execution_count": 68,
   "metadata": {},
   "outputs": [],
   "source": [
    "# Analytical solution\n",
    "result = analytical_sol(0.01, 40, (10/(10*1e6)), 0.02, 200)\n"
   ]
  },
  {
   "cell_type": "code",
   "execution_count": null,
   "metadata": {},
   "outputs": [],
   "source": []
  },
  {
   "cell_type": "code",
   "execution_count": null,
   "metadata": {},
   "outputs": [],
   "source": []
  }
 ],
 "metadata": {
  "kernelspec": {
   "display_name": ".venv",
   "language": "python",
   "name": "python3"
  },
  "language_info": {
   "codemirror_mode": {
    "name": "ipython",
    "version": 3
   },
   "file_extension": ".py",
   "mimetype": "text/x-python",
   "name": "python",
   "nbconvert_exporter": "python",
   "pygments_lexer": "ipython3",
   "version": "3.11.5"
  },
  "orig_nbformat": 4
 },
 "nbformat": 4,
 "nbformat_minor": 2
}
