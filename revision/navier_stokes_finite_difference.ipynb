{
 "cells": [
  {
   "cell_type": "markdown",
   "metadata": {},
   "source": [
    "# 2D Incompressible Navier-Stokes Equations\n",
    "\n",
    "\\begin{align*}\n",
    "\\frac{\\partial u}{\\partial t} + \\frac{\\partial uu}{\\partial x} + \\frac{\\partial vu}{\\partial y} = -\\frac{1}{\\rho}\\frac{\\partial p}{\\partial x} + \\frac{\\mu}{\\rho}\\nabla ^2 u\n",
    "\\end{align*}\n",
    "\n",
    "\\begin{align*}\n",
    "\\frac{\\partial v}{\\partial t} + \\frac{\\partial uv}{\\partial x} + \\frac{\\partial vv}{\\partial y} = -\\frac{1}{\\rho}\\frac{\\partial p}{\\partial y} + \\frac{\\mu}{\\rho} \\nabla ^2 v\n",
    "\\end{align*}\n",
    "\n",
    "\\begin{align*}\n",
    "\\frac{\\partial u}{\\partial x} + \\frac{\\partial v}{\\partial y} = 0\n",
    "\\end{align*}"
   ]
  },
  {
   "cell_type": "code",
   "execution_count": null,
   "metadata": {},
   "outputs": [],
   "source": []
  }
 ],
 "metadata": {
  "kernelspec": {
   "display_name": ".venv",
   "language": "python",
   "name": "python3"
  },
  "language_info": {
   "name": "python",
   "version": "3.12.1"
  }
 },
 "nbformat": 4,
 "nbformat_minor": 2
}
