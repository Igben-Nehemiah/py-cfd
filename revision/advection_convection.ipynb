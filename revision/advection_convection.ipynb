{
 "cells": [
  {
   "cell_type": "markdown",
   "metadata": {},
   "source": [
    "# 2D Linear Advection Equation with FTUS Scheme\n",
    "\n",
    "\\begin{align*}\n",
    "\\frac{\\partial u}{\\partial t} = -U \\frac{\\partial u}{\\partial x} - V \\frac{\\partial u}{\\partial y}\n",
    "\\end{align*}\n",
    "with the following initial condition\n",
    "$$\n",
    "u(x, y, 0) = \\sin{(\\omega_x x)}\\sin{(\\omega_y y)}\n",
    "$$\n",
    "with $U > 0$ & $V > 0$.\n",
    "\n",
    "This can be discretised as,\n",
    "$$\n",
    "u_{i,j}^{n+1} = u_{i,j}^n - U \\frac{\\Delta t}{\\Delta x} \\left ( u_{i,j}^n - u_{i-1,j}^n \\right) - V \\frac{\\Delta t}{\\Delta y}\\left ( u_{i,j}^n - u_{i,j-1}^n \\right)\n",
    "$$\n",
    "\n",
    "\n",
    "Stability: $\\text{Cr}_x + \\text{Cr}_y \\le 1$"
   ]
  },
  {
   "cell_type": "code",
   "execution_count": 1,
   "metadata": {},
   "outputs": [],
   "source": [
    "import numpy as np\n",
    "import matplotlib.pyplot as plt \n",
    "import matplotlib.animation as animation \n",
    "\n",
    "%matplotlib inline\n",
    "%config InlineBackend.figure_format = 'svg'\n",
    "\n",
    "plt.rcParams['animation.html'] = 'jshtml'"
   ]
  },
  {
   "cell_type": "code",
   "execution_count": null,
   "metadata": {},
   "outputs": [],
   "source": []
  }
 ],
 "metadata": {
  "kernelspec": {
   "display_name": ".venv",
   "language": "python",
   "name": "python3"
  },
  "language_info": {
   "codemirror_mode": {
    "name": "ipython",
    "version": 3
   },
   "file_extension": ".py",
   "mimetype": "text/x-python",
   "name": "python",
   "nbconvert_exporter": "python",
   "pygments_lexer": "ipython3",
   "version": "3.12.1"
  }
 },
 "nbformat": 4,
 "nbformat_minor": 2
}
