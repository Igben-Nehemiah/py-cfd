{
 "cells": [
  {
   "cell_type": "markdown",
   "metadata": {},
   "source": [
    "N-S equations\n",
    "$$\n",
    "\\frac{\\partial{\\textbf{u}}}{\\partial{t}} = -\\nabla \\cdot \\textbf{u} \\textbf{u} + \\frac{\\mu}{\\rho} \\nabla^2 \\textbf{u} - \\frac{1}{\\rho} \\nabla p + \\textbf{g}\n",
    "$$\n",
    "$$\n",
    "\\nabla^2p = S\n",
    "$$"
   ]
  },
  {
   "cell_type": "markdown",
   "metadata": {},
   "source": [
    "# Example 1 - Steady State Heat Equation in 1D\n",
    "In this example we solve the following steady state equation\n",
    "\n",
    "\\begin{align}\n",
    "\n",
    "\\frac{\\mathrm{d}^2 T}{\\mathrm{d}x^2} = H (T - T_{\\infty})\n",
    "\\end{align}"
   ]
  },
  {
   "cell_type": "code",
   "execution_count": null,
   "metadata": {},
   "outputs": [],
   "source": [
    "import numpy as np \n",
    "import matplotlib.pyplot as plt"
   ]
  },
  {
   "cell_type": "code",
   "execution_count": null,
   "metadata": {},
   "outputs": [],
   "source": [
    "\n",
    "L = 1.0 # m, Length of the rod\n",
    "n = 100 \n",
    "\n",
    "x = np.linspace(0, L, n)\n",
    "dx = x[1] - x[0]\n",
    "H = 100\n",
    "Tleft = 200 # K\n",
    "Tright = 300 # K\n",
    "Tinf = 500 # K \n",
    "\n",
    "ud = np.ones(n-1)\n",
    "ud[0] = 0\n",
    "\n",
    "ld = np.ones(n-1)\n",
    "ld[-1] = 0\n",
    "\n",
    "md = -(2.0+H*dx**2)*np.ones(n)\n",
    "md[[0, -1]] = 1\n",
    "\n",
    "A = np.diag(ld, -1) + np.diag(md, 0) + np.diag(ud, 1)\n",
    "\n",
    "b = -(H*dx**2*Tinf)*np.ones(n)\n",
    "b[0] = Tleft\n",
    "b[-1] = Tright\n",
    "\n",
    "sol = np.linalg.solve(A, b)\n",
    "\n",
    "plt.plot(x, sol)"
   ]
  },
  {
   "cell_type": "markdown",
   "metadata": {},
   "source": [
    "# Example 2: 1D Unsteady Diffusion with FTCS Scheme\n",
    "\n",
    "\\begin{align}\n",
    "\\frac{\\partial u}{\\partial t} &= \\mu \\frac{\\partial ^2 u}{\\partial x^2} \n",
    "\\end{align}\n",
    "Subject to:\n",
    "\\begin{align*}\n",
    "u(x, t=0) &= U_0 (x) \\\\\n",
    "u(x = 0, t) &= 0 \\\\\n",
    "u(x = L, t) &= 0\n",
    "\\end{align*}\n"
   ]
  },
  {
   "cell_type": "code",
   "execution_count": null,
   "metadata": {},
   "outputs": [],
   "source": [
    "import numpy as np\n",
    "%matplotlib inline\n",
    "%config InlineBackend.figure_format = 'svg'\n",
    "import matplotlib.pyplot as plt \n",
    "import matplotlib.animation as animation\n",
    "\n",
    "\n",
    "plt.rcParams['animation.html'] = 'jshtml'"
   ]
  },
  {
   "cell_type": "code",
   "execution_count": null,
   "metadata": {},
   "outputs": [],
   "source": [
    "n = 101\n",
    "L = 1.0 # length of domain\n",
    "x = np.linspace(0, L, n)\n",
    "dx = x[1] - x[0]\n",
    "\n",
    "mu = 1e-2 # thermal diffusivity m2/s\n",
    "\n",
    "# define intial condition\n",
    "U0 = np.sin(2*np.pi*x) # + 0.2*np.sin(30*np.pi*x)\n",
    "\n",
    "# define Fourier number\n",
    "Fo = 0.25\n",
    "\n",
    "# define time step \n",
    "dt = Fo * dx * dx /mu\n",
    "tend = 10.0 # s\n",
    "\n",
    "\n",
    "sol = [] \n",
    "sol.append(U0)\n",
    "t = 0.0 # starting time\n",
    "\n",
    "while t < tend:\n",
    "    un = sol[-1]\n",
    "    unp1 = np.zeros_like(un)\n",
    "    unp1[1:-1] = un[1:-1] + mu*dt/dx/dx * (un[:-2] - 2*un[1:-1] + un[2:])\n",
    "\n",
    "    # set  the bcs\n",
    "    unp1[0] = 0.0\n",
    "    unp1[-1] = 0.0\n",
    "    sol.append(unp1)\n",
    "    t += dt\n",
    "\n"
   ]
  },
  {
   "cell_type": "code",
   "execution_count": null,
   "metadata": {},
   "outputs": [],
   "source": [
    "ims = []\n",
    "fig = plt.figure(figsize=[5,4], dpi=200)\n",
    "plt.grid()\n",
    "\n",
    "\n",
    "i = 0\n",
    "for solution in sol:\n",
    "    if (i%100==0):\n",
    "        im = plt.plot(x, solution, 'ko-', markersize=1, animated=True)\n",
    "        plt.ylim(-1.1, 1.1)\n",
    "        ims.append(im)\n",
    "\n",
    "    i += 1\n",
    "\n",
    "ani = animation.ArtistAnimation(fig, ims, interval=35, blit=True, repeat_delay=3000)\n",
    "ani\n",
    "# ani.save(\"ftcs.mp4\")"
   ]
  },
  {
   "cell_type": "markdown",
   "metadata": {},
   "source": [
    " # Example 3: 1D Unsteady Advection on a Periodic Domain with FTCS Scheme\n",
    "\n",
    " \\begin{align*}\n",
    "\\frac{\\partial u}{\\partial t} = -c \\frac{\\partial u}{\\partial x}\n",
    " \\end{align*}\n",
    " with $u(x, t=0) = U_0 (x)$\n",
    "\n",
    "This is represented numerically as:\n",
    "\\begin{align*}\n",
    "u_i ^{n+1} = u_i ^ n - c \\frac{\\Delta t}{2 \\Delta x} (u_{i+1} ^ n - u_{i-1}^n)\n",
    "\\end{align*}\n",
    "\n",
    "Note: This scheme is unconditionally unstable... It introduces negative diffusion."
   ]
  },
  {
   "cell_type": "code",
   "execution_count": null,
   "metadata": {},
   "outputs": [],
   "source": [
    "import numpy as np\n",
    "import matplotlib.pyplot as plt\n",
    "import matplotlib.animation as animation\n",
    "\n",
    "%matplotlib inline\n",
    "%config InlineBackend.figure_format = \"svg\"\n",
    "\n",
    "plt.rcParams[\"animation.html\"] = \"jshtml\"\n"
   ]
  },
  {
   "cell_type": "code",
   "execution_count": null,
   "metadata": {},
   "outputs": [],
   "source": [
    "n = 100 # number of grid points\n",
    "L = 5.0 # length of domain\n",
    "x = np.linspace(0, L, n)\n",
    "dx = x[1] - x[0]\n",
    "\n",
    "# define a gaussian initial condition\n",
    "u0_ = lambda x, a0, s: np.exp(-(x-a0)**2/s/s)\n",
    "u0 = u0_(x, 1, 0.25)\n",
    "\n",
    "plt.plot(x, u0_(x,1,0.25), 'ob', markersize=2)"
   ]
  },
  {
   "cell_type": "code",
   "execution_count": null,
   "metadata": {},
   "outputs": [],
   "source": [
    "dt = 0.01 # timestep size\n",
    "tend = 1000*dt \n",
    "\n",
    "c = 1.0 # m/s wave speed\n",
    "\n",
    "sol = []\n",
    "\n",
    "u = np.zeros(n+2) # Including ghost points\n",
    "u[1:-1] = u0 \n",
    "\n",
    "# apply periodic conditions\n",
    "u[0] = u[-3]\n",
    "u[-1] = u[2]\n",
    "\n",
    "sol.append(u)\n",
    "t= 0.0\n",
    "while t < tend:\n",
    "    un = sol[-1]\n",
    "    unew = np.zeros_like(un)\n",
    "    unew[1:-1] = un[1:-1] - c*dt/2.0/dx * (un[2:] - un[:-2])\n",
    "\n",
    "    unew[0] = unew[-3]\n",
    "    unew[-1] = unew[2]\n",
    "\n",
    "    sol.append(unew)\n",
    "    t += dt\n",
    "\n"
   ]
  },
  {
   "cell_type": "code",
   "execution_count": null,
   "metadata": {},
   "outputs": [],
   "source": [
    "ims = []\n",
    "fig = plt.figure(figsize=[5,4], dpi=200)\n",
    "plt.grid()\n",
    "\n",
    "\n",
    "i = 0\n",
    "for solution in sol:\n",
    "    if (i%10==0):\n",
    "        im = plt.plot(x, solution[1:-1], 'ko-', markersize=1, animated=True)\n",
    "        plt.ylim(-0.1, 1.1)\n",
    "        ims.append(im)\n",
    "\n",
    "    i += 1\n",
    "\n",
    "ani = animation.ArtistAnimation(fig, ims, interval=35, blit=True, repeat_delay=3000)\n",
    "ani"
   ]
  },
  {
   "cell_type": "markdown",
   "metadata": {},
   "source": [
    " # Example 4: 1D Unsteady Advection on a Periodic Domain with FTUS Scheme\n",
    "\n",
    " \\begin{align*}\n",
    "\\frac{\\partial u}{\\partial t} = -c \\frac{\\partial u}{\\partial x}\n",
    " \\end{align*}\n",
    " with $u(x, t=0) = U_0 (x)$\n",
    "\n",
    "This is represented numerically as:\n",
    "\\begin{align*}\n",
    "u_i ^{n+1} = u_i ^ n - c \\frac{\\Delta t}{\\Delta x} (u_{i} ^ n - u_{i-1}^n)\n",
    "\\end{align*}\n"
   ]
  },
  {
   "cell_type": "code",
   "execution_count": null,
   "metadata": {},
   "outputs": [],
   "source": [
    "import matplotlib.animation as animation\n",
    "\n",
    "%matplotlib inline\n",
    "%config InlineBackend.figure_format = \"svg\"\n",
    "\n",
    "plt.rcParams[\"animation.html\"] = \"jshtml\""
   ]
  },
  {
   "cell_type": "code",
   "execution_count": null,
   "metadata": {},
   "outputs": [],
   "source": [
    "n = 100 # number of grid points\n",
    "L = 5.0 # length of domain\n",
    "x = np.linspace(0, L, n)\n",
    "dx = x[1] - x[0]\n",
    "\n",
    "# define a gaussian initial condition\n",
    "u0_ = lambda x, a0, s: np.exp(-(x-a0)**2/s/s)\n",
    "u0 = u0_(x, 1, 0.25)\n",
    "\n",
    "plt.plot(x, u0_(x,1,0.25), 'ob', markersize=2)"
   ]
  },
  {
   "cell_type": "code",
   "execution_count": null,
   "metadata": {},
   "outputs": [],
   "source": [
    "dt = 0.01 # timestep size\n",
    "tend = 1000*dt \n",
    "\n",
    "c = 1.0 # m/s wave speed\n",
    "\n",
    "sol = []\n",
    "\n",
    "u = np.zeros(n+2) # Including ghost points\n",
    "u[1:-1] = u0 \n",
    "\n",
    "# apply periodic conditions\n",
    "u[0] = u[-3]\n",
    "u[-1] = u[2]\n",
    "\n",
    "sol.append(u)\n",
    "t= 0.0\n",
    "while t < tend:\n",
    "    un = sol[-1]\n",
    "    unew = np.zeros_like(un)\n",
    "    unew[1:-1] = un[1:-1] - c*dt/dx * (un[1:-1] - un[:-2])\n",
    "\n",
    "    unew[0] = unew[-3]\n",
    "    unew[-1] = unew[2]\n",
    "\n",
    "    sol.append(unew)\n",
    "    t += dt\n",
    "\n"
   ]
  },
  {
   "cell_type": "code",
   "execution_count": null,
   "metadata": {},
   "outputs": [],
   "source": [
    "ims = []\n",
    "fig = plt.figure(figsize=[5,4], dpi=200)\n",
    "plt.grid()\n",
    "\n",
    "\n",
    "i = 0\n",
    "for solution in sol:\n",
    "    if (i%10==0):\n",
    "        im = plt.plot(x, solution[1:-1], 'ko-', markersize=1, animated=True)\n",
    "        plt.ylim(-0.1, 1.1)\n",
    "        ims.append(im)\n",
    "\n",
    "    i += 1\n",
    "\n",
    "ani = animation.ArtistAnimation(fig, ims, interval=35, blit=True, repeat_delay=3000)\n",
    "ani"
   ]
  },
  {
   "cell_type": "markdown",
   "metadata": {},
   "source": [
    "# 1D Linear Advection Difussion with FTCS (central on both adv and diff)\n",
    "\n",
    "\\begin{align*}\n",
    "\\frac{\\partial u}{\\partial t} = -c \\frac{\\partial u}{\\partial x} + \\mu \\frac{\\partial ^2 u}{\\partial x^2}\n",
    "\\end{align*}\n",
    "\n",
    "This can be written numerically as:\n",
    "\\begin{equation}\n",
    "u_i^{n+1} = u_i^n - c \\frac{\\Delta t}{2 \\Delta x}(u_{n+1}^n - u_{n-1}^n) + \\mu \\frac{\\Delta t}{\\Delta x^2} (u_{i+1}^n - 2u_i^n + u_{i-1}^n)\n",
    "\\end{equation}"
   ]
  },
  {
   "cell_type": "code",
   "execution_count": null,
   "metadata": {},
   "outputs": [],
   "source": [
    "import matplotlib.animation as animation\n",
    "\n",
    "%matplotlib inline\n",
    "%config InlineBackend.figure_format = \"svg\"\n",
    "\n",
    "plt.rcParams[\"animation.html\"] = \"jshtml\""
   ]
  },
  {
   "cell_type": "code",
   "execution_count": null,
   "metadata": {},
   "outputs": [],
   "source": [
    "n = 100 # number of grid points\n",
    "L = 5.0 # length of domain\n",
    "x = np.linspace(0, L, n)\n",
    "dx = x[1] - x[0]\n",
    "\n",
    "# define a gaussian initial condition\n",
    "u0_ = lambda x, a0, s: np.exp(-(x-a0)**2/s/s)\n",
    "u0 = u0_(x, 1, 0.25)"
   ]
  },
  {
   "cell_type": "code",
   "execution_count": null,
   "metadata": {},
   "outputs": [],
   "source": [
    "dt = 0.001 # timestep size\n",
    "tend = 2\n",
    "\n",
    "c = 1.0 # m/s wave speed\n",
    "mu = 1e-2 # thermal diffusivity m2/s\n",
    "\n",
    "# Courant number\n",
    "Cr = c*dt/dx\n",
    "# Fourier number\n",
    "Fo = mu*dt/dx/dx \n",
    "\n",
    "sol = []\n",
    "\n",
    "u = np.zeros(n+2) # Including ghost points\n",
    "u[1:-1] = u0 \n",
    "\n",
    "# apply periodic conditions\n",
    "u[0] = u[-3]\n",
    "u[-1] = u[2]\n",
    "\n",
    "sol.append(u)\n",
    "t= 0.0\n",
    "while t < tend:\n",
    "    un = sol[-1]\n",
    "    unew = np.zeros_like(un)\n",
    "    unew[1:-1] = un[1:-1] - Cr/2.0 * (un[2:] - un[:-2]) + Fo*(un[2:] + 2*un[1:-1] - un[:-2])\n",
    "\n",
    "    unew[0] = unew[-3]\n",
    "    unew[-1] = unew[2]\n",
    "    \n",
    "    sol.append(unew)\n",
    "    t += dt"
   ]
  },
  {
   "cell_type": "code",
   "execution_count": null,
   "metadata": {},
   "outputs": [],
   "source": [
    "ims = []\n",
    "fig = plt.figure(figsize=[5,4], dpi=200)\n",
    "plt.grid()\n",
    "\n",
    "\n",
    "i = 0\n",
    "for solution in sol:\n",
    "    if (i%10==0):\n",
    "        im = plt.plot(x, solution[1:-1], 'ko-', markersize=1, animated=True)\n",
    "        plt.ylim(-0.1, 1.1)\n",
    "        ims.append(im)\n",
    "\n",
    "    i += 1\n",
    "\n",
    "ani = animation.ArtistAnimation(fig, ims, interval=35, blit=True, repeat_delay=3000)\n",
    "ani"
   ]
  },
  {
   "cell_type": "markdown",
   "metadata": {},
   "source": []
  },
  {
   "cell_type": "code",
   "execution_count": null,
   "metadata": {},
   "outputs": [],
   "source": []
  }
 ],
 "metadata": {
  "kernelspec": {
   "display_name": ".venv",
   "language": "python",
   "name": "python3"
  },
  "language_info": {
   "codemirror_mode": {
    "name": "ipython",
    "version": 3
   },
   "file_extension": ".py",
   "mimetype": "text/x-python",
   "name": "python",
   "nbconvert_exporter": "python",
   "pygments_lexer": "ipython3",
   "version": "3.12.1"
  }
 },
 "nbformat": 4,
 "nbformat_minor": 2
}
