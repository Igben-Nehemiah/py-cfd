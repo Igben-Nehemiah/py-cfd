{
 "cells": [
  {
   "cell_type": "markdown",
   "metadata": {},
   "source": [
    "The governing equation of fluid flow represent mathematical statements of the *conservation laws of physics*:\n",
    "\n",
    "1) The mass of a fluid is conserved\n",
    "2) The rate of change of momentum equals the sum of the forces on a fluid particle (Newton's second law)\n",
    "3) The rate of chane of energy is equal to the sum of the rate of heat addition to and the rate of work done on a fluid particle (first law of thermodynamics)"
   ]
  },
  {
   "cell_type": "markdown",
   "metadata": {},
   "source": [
    "The continuity equation at a point in a compressible fluid is given by\n",
    "\n",
    "$$\n",
    "\\frac{\\partial{\\rho}}{\\partial{t}} + div(\\rho \\textbf{u})) = 0\n",
    "$$"
   ]
  },
  {
   "cell_type": "markdown",
   "metadata": {},
   "source": [
    "The substantive derivative of $\\phi$ with respect to time following a fluid particle is given as\n",
    "$$\n",
    "\\frac{D\\phi}{Dt} = \\frac{\\partial{\\phi}}{\\partial{t}} + \\textbf{u}.grad\\ \\phi\n",
    "$$ "
   ]
  },
  {
   "cell_type": "code",
   "execution_count": null,
   "metadata": {},
   "outputs": [],
   "source": []
  }
 ],
 "metadata": {
  "kernelspec": {
   "display_name": ".venv",
   "language": "python",
   "name": "python3"
  },
  "language_info": {
   "name": "python",
   "version": "3.11.5"
  },
  "orig_nbformat": 4
 },
 "nbformat": 4,
 "nbformat_minor": 2
}
